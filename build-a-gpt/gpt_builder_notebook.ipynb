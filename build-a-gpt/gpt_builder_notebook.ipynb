{
 "cells": [
  {
   "cell_type": "markdown",
   "metadata": {},
   "source": [
    "# Import Requirements"
   ]
  },
  {
   "cell_type": "code",
   "execution_count": 56,
   "metadata": {},
   "outputs": [],
   "source": [
    "import torch\n",
    "import torch.nn as nn\n",
    "from torch.nn import functional as F"
   ]
  },
  {
   "cell_type": "markdown",
   "metadata": {},
   "source": [
    "# Import Data"
   ]
  },
  {
   "cell_type": "code",
   "execution_count": 37,
   "metadata": {},
   "outputs": [],
   "source": [
    "# Read in tiny shakespeare dataset\n",
    "\n",
    "with open(r\"C:\\Users\\logan\\Documents\\OneDrive BackUp\\My Personal Stuff\\Github Repos\\personal_projects\\minGPT_clone\\tinyshakespeare.txt\",'r',encoding='utf-8') as f:\n",
    "    text = f.read()\n"
   ]
  },
  {
   "cell_type": "markdown",
   "metadata": {},
   "source": [
    "# Explore Data"
   ]
  },
  {
   "cell_type": "code",
   "execution_count": 38,
   "metadata": {},
   "outputs": [
    {
     "name": "stdout",
     "output_type": "stream",
     "text": [
      "Length of dataset in characters: 1115393\n"
     ]
    }
   ],
   "source": [
    "#  Number of Characters in the dataset\n",
    "\n",
    "print(f\"Length of dataset in characters: {str(len(text))}\")\n",
    "\n"
   ]
  },
  {
   "cell_type": "code",
   "execution_count": 39,
   "metadata": {},
   "outputs": [
    {
     "name": "stdout",
     "output_type": "stream",
     "text": [
      "First Citizen:\n",
      "Before we proceed any further, hear me speak.\n",
      "\n",
      "All:\n",
      "Speak, speak.\n",
      "\n",
      "First Citizen:\n",
      "You\n"
     ]
    }
   ],
   "source": [
    "# First 100 characters\n",
    "\n",
    "print(text[:100])"
   ]
  },
  {
   "cell_type": "code",
   "execution_count": 58,
   "metadata": {},
   "outputs": [
    {
     "name": "stdout",
     "output_type": "stream",
     "text": [
      "Unique characters in the corpus: \n",
      "\n",
      " !$&',-.3:;?ABCDEFGHIJKLMNOPQRSTUVWXYZabcdefghijklmnopqrstuvwxyz\n"
     ]
    }
   ],
   "source": [
    "# Show unique characters in corpus\n",
    "\n",
    "chars = sorted(list(set(text)))\n",
    "\n",
    "vocab_size = len(chars)\n",
    "\n",
    "print(\"Unique characters in the corpus: \")\n",
    "print(''.join(chars))"
   ]
  },
  {
   "cell_type": "markdown",
   "metadata": {},
   "source": [
    "# Mapping Characters to Integers (Creating an Encoder & Decoder)\n",
    "\n",
    "\n",
    "#### Since this is a character-level language model, we will encode each individual character as an integer (as opposed to a token-level or sentence-level lanaguage model)"
   ]
  },
  {
   "cell_type": "code",
   "execution_count": 41,
   "metadata": {},
   "outputs": [
    {
     "name": "stdout",
     "output_type": "stream",
     "text": [
      "[46, 43, 50, 50, 53, 1, 61, 53, 56, 50, 42]\n",
      "hello world\n"
     ]
    }
   ],
   "source": [
    "# create the mapping from characters to integers\n",
    "\n",
    "str_to_int = { ch:i for i,ch in enumerate(chars) }   # for each unique character, assign it to an integer value using enumerate()\n",
    "int_to_str = { i:ch for i,ch in enumerate(chars) }   # reverse mapping to assign each integer value back to the unique character assigned to it \n",
    "\n",
    "# Encode a string to a list of integers\n",
    "# -- for each character (c) in a given string (s), find the value at index c in the str_to_int mapping\n",
    "encode = lambda s: [str_to_int[c] for c in s]    \n",
    "\n",
    "# Decode a list of integers back to a string\n",
    "# -- for each integer (i) in a list of int (l), find the value at index i in the int_to_str mapping\n",
    "decode = lambda l: ''.join([int_to_str[i] for i in l])\n",
    "\n",
    "print(encode(\"hello world\"))\n",
    "print(decode(encode(\"hello world\")))"
   ]
  },
  {
   "cell_type": "markdown",
   "metadata": {},
   "source": [
    "# Encode the full corpus and store in a torch.Tensor"
   ]
  },
  {
   "cell_type": "code",
   "execution_count": 42,
   "metadata": {},
   "outputs": [
    {
     "name": "stdout",
     "output_type": "stream",
     "text": [
      "torch.Size([1115393]) torch.int64\n",
      "tensor([18, 47, 56, 57, 58,  1, 15, 47, 58, 47, 64, 43, 52, 10,  0, 14, 43, 44,\n",
      "        53, 56, 43,  1, 61, 43,  1, 54, 56, 53, 41, 43, 43, 42,  1, 39, 52, 63,\n",
      "         1, 44, 59, 56, 58, 46, 43, 56,  6,  1, 46, 43, 39, 56,  1, 51, 43,  1,\n",
      "        57, 54, 43, 39, 49,  8,  0,  0, 13, 50, 50, 10,  0, 31, 54, 43, 39, 49,\n",
      "         6,  1, 57, 54, 43, 39, 49,  8,  0,  0, 18, 47, 56, 57, 58,  1, 15, 47,\n",
      "        58, 47, 64, 43, 52, 10,  0, 37, 53, 59])\n"
     ]
    }
   ],
   "source": [
    "\n",
    "# -- Encode the full text corpus, then store the encoding in a torch.Tensor\n",
    "data = torch.tensor(encode(text),dtype=torch.long)\n",
    "\n",
    "print(data.shape, data.dtype)\n",
    "# Show first 100 characters in the tensor\n",
    "print(data[:100])"
   ]
  },
  {
   "cell_type": "markdown",
   "metadata": {},
   "source": [
    "# Split Data into Train & Test Sets\n",
    "\n",
    "\n",
    "#### 90 / 10 split"
   ]
  },
  {
   "cell_type": "code",
   "execution_count": 43,
   "metadata": {},
   "outputs": [],
   "source": [
    "n = int(.9*len(data))\n",
    "\n",
    "train_data = data[:n]\n",
    "test_data = data[n:]"
   ]
  },
  {
   "cell_type": "markdown",
   "metadata": {},
   "source": [
    "# Set Block Size\n",
    "\n",
    "#### Size of string (in # of characters) to be used for training the model"
   ]
  },
  {
   "cell_type": "code",
   "execution_count": 44,
   "metadata": {},
   "outputs": [
    {
     "data": {
      "text/plain": [
       "tensor([18, 47, 56, 57, 58,  1, 15, 47, 58])"
      ]
     },
     "execution_count": 44,
     "metadata": {},
     "output_type": "execute_result"
    }
   ],
   "source": [
    "block_size = 8\n",
    "\n",
    "train_data[:block_size+1]"
   ]
  },
  {
   "cell_type": "markdown",
   "metadata": {},
   "source": [
    "# Example to Understand How Sequences are Parsed to Context & Targets\n",
    "\n",
    "#### A single batch input of block_size length is parsed"
   ]
  },
  {
   "cell_type": "code",
   "execution_count": 46,
   "metadata": {},
   "outputs": [
    {
     "name": "stdout",
     "output_type": "stream",
     "text": [
      "when input is tensor([18]), the target is: 58\n",
      "when input is tensor([18, 47]), the target is: 47\n",
      "when input is tensor([18, 47, 56]), the target is: 64\n",
      "when input is tensor([18, 47, 56, 57]), the target is: 43\n",
      "when input is tensor([18, 47, 56, 57, 58]), the target is: 52\n",
      "when input is tensor([18, 47, 56, 57, 58,  1]), the target is: 10\n",
      "when input is tensor([18, 47, 56, 57, 58,  1, 15]), the target is: 0\n",
      "when input is tensor([18, 47, 56, 57, 58,  1, 15, 47]), the target is: 14\n"
     ]
    }
   ],
   "source": [
    "\n",
    "# Inputs to the transformer\n",
    "x = train_data[:block_size]\n",
    "# The next input to the transformer (ie. the value being predicted)\n",
    "y = train_data[block_size:]\n",
    "\n",
    "\n",
    "# -- For a range of t to block_size, print the context (what is shown to the model) and the target (next value in the sequence)\n",
    "for t in range(block_size):\n",
    "    context = x[:t+1]\n",
    "    target = y[t]\n",
    "\n",
    "    print(f\"when input is {context}, the target is: {target}\")"
   ]
  },
  {
   "cell_type": "markdown",
   "metadata": {},
   "source": [
    "# Example to Understand How Batches of Sequences are Parsed to Context & Targets\n",
    "\n",
    "#### Multiple batches of input of tensor stacks (batch_size by block_size matrix) are parsed"
   ]
  },
  {
   "cell_type": "code",
   "execution_count": 54,
   "metadata": {},
   "outputs": [
    {
     "name": "stdout",
     "output_type": "stream",
     "text": [
      "Example of a batch of inputs to the model: \n",
      "torch.Size([4, 8])\n",
      "tensor([[53, 59,  6,  1, 58, 56, 47, 40],\n",
      "        [49, 43, 43, 54,  1, 47, 58,  1],\n",
      "        [13, 52, 45, 43, 50, 53,  8,  0],\n",
      "        [ 1, 39,  1, 46, 53, 59, 57, 43]])\n",
      "Example of batch of targets for the model to predict: \n",
      "torch.Size([4, 8])\n",
      "tensor([[59,  6,  1, 58, 56, 47, 40, 59],\n",
      "        [43, 43, 54,  1, 47, 58,  1, 58],\n",
      "        [52, 45, 43, 50, 53,  8,  0, 26],\n",
      "        [39,  1, 46, 53, 59, 57, 43,  0]])\n",
      " =================== \n",
      "when input is [53], the target is: 59\n",
      "when input is [53, 59], the target is: 6\n",
      "when input is [53, 59, 6], the target is: 1\n",
      "when input is [53, 59, 6, 1], the target is: 58\n",
      "when input is [53, 59, 6, 1, 58], the target is: 56\n",
      "when input is [53, 59, 6, 1, 58, 56], the target is: 47\n",
      "when input is [53, 59, 6, 1, 58, 56, 47], the target is: 40\n",
      "when input is [53, 59, 6, 1, 58, 56, 47, 40], the target is: 59\n",
      "when input is [49], the target is: 43\n",
      "when input is [49, 43], the target is: 43\n",
      "when input is [49, 43, 43], the target is: 54\n",
      "when input is [49, 43, 43, 54], the target is: 1\n",
      "when input is [49, 43, 43, 54, 1], the target is: 47\n",
      "when input is [49, 43, 43, 54, 1, 47], the target is: 58\n",
      "when input is [49, 43, 43, 54, 1, 47, 58], the target is: 1\n",
      "when input is [49, 43, 43, 54, 1, 47, 58, 1], the target is: 58\n",
      "when input is [13], the target is: 52\n",
      "when input is [13, 52], the target is: 45\n",
      "when input is [13, 52, 45], the target is: 43\n",
      "when input is [13, 52, 45, 43], the target is: 50\n",
      "when input is [13, 52, 45, 43, 50], the target is: 53\n",
      "when input is [13, 52, 45, 43, 50, 53], the target is: 8\n",
      "when input is [13, 52, 45, 43, 50, 53, 8], the target is: 0\n",
      "when input is [13, 52, 45, 43, 50, 53, 8, 0], the target is: 26\n",
      "when input is [1], the target is: 39\n",
      "when input is [1, 39], the target is: 1\n",
      "when input is [1, 39, 1], the target is: 46\n",
      "when input is [1, 39, 1, 46], the target is: 53\n",
      "when input is [1, 39, 1, 46, 53], the target is: 59\n",
      "when input is [1, 39, 1, 46, 53, 59], the target is: 57\n",
      "when input is [1, 39, 1, 46, 53, 59, 57], the target is: 43\n",
      "when input is [1, 39, 1, 46, 53, 59, 57, 43], the target is: 0\n"
     ]
    }
   ],
   "source": [
    "torch.manual_seed(1337)\n",
    "\n",
    "# -- batch_size = # of independent sequences to be processed in parallel\n",
    "batch_size = 4\n",
    "# -- maximum context length (length of characters shown to model) for predictions\n",
    "block_size = 8\n",
    "\n",
    "def get_batch(split): \n",
    "\n",
    "\n",
    "    if split == 'train':\n",
    "        data = train_data\n",
    "    else:\n",
    "        data = test_data\n",
    "\n",
    "    # Generate random positions to select chunks of characters to pass to the model\n",
    "    # -- generate batch_size length chunks of character, with each character representing an integer between 0 and len(data) - block_size\n",
    "    # -- ix = batch_size length of characters of random numbers between 0 and len(data) - block_size\n",
    "    ix = torch.randint(len(data) - block_size, (batch_size,))\n",
    "\n",
    "    # For each index i in ix, extract a sequence of characters from data for index i through i + block_size\n",
    "    # -- user torch.stack to stack each individual tensor as a row in a batch_size by block_size matrix\n",
    "    x = torch.stack([data[i:i+block_size] for i in ix])\n",
    "    # For each index i in ix, offset by 1 to get the next sequence of characters (the target value)\n",
    "    # -- user torch.stack to stack each individual tensor as a row in a batch_size by block_size matrix\n",
    "    y = torch.stack([data[i+1:i+block_size+1] for i in ix])\n",
    "\n",
    "    return x, y\n",
    "\n",
    "xbatch, ybatch = get_batch('train')\n",
    "\n",
    "print('Example of a batch of inputs to the model: ')\n",
    "print(xbatch.shape)\n",
    "print(xbatch)\n",
    "print('Example of batch of targets for the model to predict: ')\n",
    "print(ybatch.shape)\n",
    "print(ybatch)\n",
    "\n",
    "print(' =================== ')\n",
    "\n",
    "for b in range(batch_size):     # batch (b) dimension\n",
    "    for t in range(block_size):     # time (t) dimension\n",
    "\n",
    "        context = xbatch[b, :t+1]\n",
    "        target = ybatch[b,t]\n",
    "        print(f\"when input is {context.tolist()}, the target is: {target}\")"
   ]
  },
  {
   "cell_type": "markdown",
   "metadata": {},
   "source": [
    "# Instanciate a Neural Network Model\n",
    "\n",
    "#### For ease, use a Bigram Language Model"
   ]
  },
  {
   "cell_type": "markdown",
   "metadata": {},
   "source": [
    "# !!! Refer to Andrej Karpathy's makemore series on youtube to better understand the Bigram Language Model created below"
   ]
  },
  {
   "cell_type": "code",
   "execution_count": 62,
   "metadata": {},
   "outputs": [
    {
     "name": "stdout",
     "output_type": "stream",
     "text": [
      "torch.Size([4, 8, 65])\n"
     ]
    }
   ],
   "source": [
    "# set seed\n",
    "torch.manual_seed(1337)\n",
    "\n",
    "class BigramLanguageModel(nn.Module):\n",
    "\n",
    "    def __init__(self, vocab_size): \n",
    "        super().__init__()\n",
    "\n",
    "        # Upon initializing this class, create a token_embedding_table of  size vocab_size x vocab_size\n",
    "        self.token_embedding_table = nn.Embedding(vocab_size, vocab_size)\n",
    "\n",
    "    def forward(self, idx, targets):\n",
    "\n",
    "        # From the token_embedding_table (of size vocab_size x vocab_size)...\n",
    "        # ... pass each index value (idx) to extract the idx row of the token_embedding_table...\n",
    "        #... then, arrange them in a B x T x C matrix\n",
    "        logits = self.token_embedding_table(idx)  # (B - batch, T - time, C - channel)\n",
    "\n",
    "        return logits\n",
    "\n",
    "# Instantiate a model using the class we created\n",
    "model = BigramLanguageModel(vocab_size)\n",
    "\n",
    "# Pass inputs (xbatch) and targets (ybatch) to the model\n",
    "output = model(xbatch, ybatch)\n",
    "\n",
    "print(output.shape)\n"
   ]
  }
 ],
 "metadata": {
  "interpreter": {
   "hash": "81bba995fcae50bb985d8bb03d3cd265feb74e20612dcc2d8a4e1d6e19e35691"
  },
  "kernelspec": {
   "display_name": "Python 3.9.1 64-bit",
   "language": "python",
   "name": "python3"
  },
  "language_info": {
   "codemirror_mode": {
    "name": "ipython",
    "version": 3
   },
   "file_extension": ".py",
   "mimetype": "text/x-python",
   "name": "python",
   "nbconvert_exporter": "python",
   "pygments_lexer": "ipython3",
   "version": "3.9.1"
  },
  "orig_nbformat": 4
 },
 "nbformat": 4,
 "nbformat_minor": 2
}
